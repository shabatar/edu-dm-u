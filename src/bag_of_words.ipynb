{
 "cells": [
  {
   "cell_type": "code",
   "execution_count": 17,
   "metadata": {
    "collapsed": true
   },
   "outputs": [],
   "source": [
    "import json\n",
    "import numpy as np\n",
    "from sklearn.feature_extraction.text import TfidfVectorizer\n",
    "from sklearn.metrics import accuracy_score\n",
    "from sklearn.model_selection import train_test_split\n",
    "import pandas as pd\n",
    "from sklearn.multiclass import OneVsRestClassifier\n",
    "from sklearn.naive_bayes import MultinomialNB\n",
    "from sklearn.pipeline import Pipeline"
   ]
  },
  {
   "cell_type": "markdown",
   "metadata": {},
   "source": [
    "Helper function to remove comment lines from code represented as string"
   ]
  },
  {
   "cell_type": "code",
   "execution_count": 18,
   "metadata": {},
   "outputs": [],
   "source": [
    "def removeCommentLines(string):\n",
    "    str = ''\n",
    "    lines = string.split('\\n')\n",
    "    for line in lines:\n",
    "        # Keep the Shebang line\n",
    "        if line[0:2] == \"#!\":\n",
    "            str += line\n",
    "        # Also keep existing empty lines\n",
    "        elif not line.strip():\n",
    "            str += line\n",
    "        # But remove comments from other lines\n",
    "        else:\n",
    "            line = line.split('#')\n",
    "            stripped_string = line[0].rstrip()\n",
    "            # Write the line only if the comment was after the code.\n",
    "            # Discard lines that only contain comments.\n",
    "            if stripped_string:\n",
    "                str += stripped_string\n",
    "                str += '\\n'\n",
    "    return str"
   ]
  },
  {
   "cell_type": "markdown",
   "metadata": {},
   "source": [
    "Load json files"
   ]
  },
  {
   "cell_type": "code",
   "execution_count": 19,
   "metadata": {},
   "outputs": [],
   "source": [
    "with open('index_to_code.json') as f:\n",
    "    index_to_code = json.load(f)\n",
    "with open('index_to_topics.json') as f:\n",
    "    index_to_topics = json.load(f)\n",
    "with open('all_topics.json') as f:\n",
    "    topics = json.load(f)"
   ]
  },
  {
   "cell_type": "markdown",
   "metadata": {},
   "source": [
    "Create dictionaries from json files and Split to train/test samples"
   ]
  },
  {
   "cell_type": "code",
   "execution_count": 20,
   "metadata": {},
   "outputs": [],
   "source": [
    "index_to_code = {int(k):v for k,v in index_to_code.items()}\n",
    "index_to_topics = {int(k):v for k,v in index_to_topics.items()}\n",
    "code_train, code_test, topic_train, topic_test = train_test_split(index_to_code, index_to_topics, random_state=42, test_size=0.33, shuffle=True)"
   ]
  },
  {
   "cell_type": "markdown",
   "metadata": {},
   "source": [
    "Convert to pandas dataframes"
   ]
  },
  {
   "cell_type": "code",
   "execution_count": 21,
   "metadata": {},
   "outputs": [],
   "source": [
    "train_df = pd.DataFrame({'code':pd.Series(code_train),'topic':pd.Series(topic_train)})\n",
    "test_df = pd.DataFrame({'code':pd.Series(code_test),'topic':pd.Series(topic_test)})"
   ]
  },
  {
   "cell_type": "markdown",
   "metadata": {},
   "source": [
    "Remove commentaries"
   ]
  },
  {
   "cell_type": "code",
   "execution_count": 23,
   "metadata": {},
   "outputs": [
    {
     "name": "stderr",
     "output_type": "stream",
     "text": [
      "/Users/kata/PycharmProjects/edu-dm-u/venv/lib/python3.6/site-packages/ipykernel_launcher.py:3: FutureWarning: set_value is deprecated and will be removed in a future release. Please use .at[] or .iat[] accessors instead\n  This is separate from the ipykernel package so we can avoid doing imports until\n"
     ]
    },
    {
     "name": "stderr",
     "output_type": "stream",
     "text": [
      "/Users/kata/PycharmProjects/edu-dm-u/venv/lib/python3.6/site-packages/ipykernel_launcher.py:7: FutureWarning: set_value is deprecated and will be removed in a future release. Please use .at[] or .iat[] accessors instead\n  import sys\n"
     ]
    }
   ],
   "source": [
    "for idx, row in train_df.iterrows():\n",
    "    row['code'] = removeCommentLines(row['code'])\n",
    "    train_df.set_value(idx, 'code', row['code'])\n",
    "\n",
    "for idx, row in test_df.iterrows():\n",
    "    row['code'] = removeCommentLines(row['code'])\n",
    "    test_df.set_value(idx, 'code', row['code'])"
   ]
  },
  {
   "cell_type": "markdown",
   "metadata": {},
   "source": [
    "Use OneVsTheRest multi-label classifier"
   ]
  },
  {
   "cell_type": "code",
   "execution_count": 24,
   "metadata": {},
   "outputs": [],
   "source": [
    "NB_pipeline = Pipeline([\n",
    "    ('tfidf', TfidfVectorizer()),\n",
    "    ('clf', OneVsRestClassifier(MultinomialNB(\n",
    "        fit_prior=True, class_prior=None))),\n",
    "])"
   ]
  },
  {
   "cell_type": "markdown",
   "metadata": {},
   "source": [
    "Get dict of number (from 0 to number of topics) to name of category (e.g 1 -> i/o, 2 -> loop etc)"
   ]
  },
  {
   "cell_type": "code",
   "execution_count": 25,
   "metadata": {},
   "outputs": [],
   "source": [
    "topicss = dict.fromkeys(topics, 0)\n",
    "k = 0\n",
    "for topic in topicss.keys():\n",
    "    topicss[topic] = k\n",
    "    k = k + 1"
   ]
  },
  {
   "cell_type": "markdown",
   "metadata": {},
   "source": [
    "Prepare data to fit the model by replacing topic names to numbers"
   ]
  },
  {
   "cell_type": "code",
   "execution_count": 26,
   "metadata": {},
   "outputs": [],
   "source": [
    "y = train_df['topic'].tolist()\n",
    "y_test = test_df['topic'].tolist()\n",
    "\n",
    "for lis in y:\n",
    "    for i, topic in enumerate(lis):\n",
    "        lis[i] = topicss[topic]\n",
    "\n",
    "for lis in y_test:\n",
    "    for i, topic in enumerate(lis):\n",
    "        lis[i] = topicss[topic]\n",
    "        \n",
    "x = np.array(train_df['code'])"
   ]
  },
  {
   "cell_type": "markdown",
   "metadata": {},
   "source": [
    "Use MultiLabelBinarizer to transform multi labels to matrix"
   ]
  },
  {
   "cell_type": "code",
   "execution_count": 27,
   "metadata": {},
   "outputs": [],
   "source": [
    "from sklearn.preprocessing import MultiLabelBinarizer\n",
    "MLB = MultiLabelBinarizer()\n",
    "y = MLB.fit_transform(y)\n"
   ]
  },
  {
   "cell_type": "markdown",
   "metadata": {},
   "source": [
    "Fit-predict "
   ]
  },
  {
   "cell_type": "code",
   "execution_count": 29,
   "metadata": {},
   "outputs": [],
   "source": [
    "NB_pipeline.fit(x, y)\n",
    "prediction = NB_pipeline.predict(np.array(test_df['code']))"
   ]
  },
  {
   "cell_type": "markdown",
   "metadata": {},
   "source": [
    "Write prediction results to file, but at first convert themes back to human-readable format"
   ]
  },
  {
   "cell_type": "code",
   "execution_count": 16,
   "metadata": {},
   "outputs": [
    {
     "ename": "KeyError",
     "evalue": "21",
     "traceback": [
      "\u001b[0;31m---------------------------------------------------------------------------\u001b[0m",
      "\u001b[0;31mKeyError\u001b[0m                                  Traceback (most recent call last)",
      "\u001b[0;32m<ipython-input-16-620a4e22e175>\u001b[0m in \u001b[0;36m<module>\u001b[0;34m()\u001b[0m\n\u001b[1;32m      8\u001b[0m     \u001b[0mtopic_names\u001b[0m \u001b[0;34m=\u001b[0m \u001b[0msorted\u001b[0m\u001b[0;34m(\u001b[0m\u001b[0mtopic_names\u001b[0m\u001b[0;34m)\u001b[0m\u001b[0;34m\u001b[0m\u001b[0m\n\u001b[1;32m      9\u001b[0m     \u001b[0;32mfor\u001b[0m \u001b[0mi\u001b[0m\u001b[0;34m,\u001b[0m \u001b[0mname\u001b[0m \u001b[0;32min\u001b[0m \u001b[0menumerate\u001b[0m\u001b[0;34m(\u001b[0m\u001b[0mtopic_names\u001b[0m\u001b[0;34m)\u001b[0m\u001b[0;34m:\u001b[0m\u001b[0;34m\u001b[0m\u001b[0m\n\u001b[0;32m---> 10\u001b[0;31m         \u001b[0mtopic_names\u001b[0m\u001b[0;34m[\u001b[0m\u001b[0mi\u001b[0m\u001b[0;34m]\u001b[0m \u001b[0;34m=\u001b[0m \u001b[0mtopicss\u001b[0m\u001b[0;34m[\u001b[0m\u001b[0mname\u001b[0m\u001b[0;34m]\u001b[0m\u001b[0;34m\u001b[0m\u001b[0m\n\u001b[0m\u001b[1;32m     11\u001b[0m     \u001b[0mpredictionn\u001b[0m\u001b[0;34m[\u001b[0m\u001b[0mj\u001b[0m\u001b[0;34m]\u001b[0m \u001b[0;34m=\u001b[0m \u001b[0mtopic_names\u001b[0m\u001b[0;34m\u001b[0m\u001b[0m\n\u001b[1;32m     12\u001b[0m \u001b[0;34m\u001b[0m\u001b[0m\n",
      "\u001b[0;31mKeyError\u001b[0m: 21"
     ],
     "output_type": "error"
    }
   ],
   "source": [
    "#print(MLB.inverse_transform(prediction))\n",
    "predictionn = MLB.inverse_transform(prediction)\n",
    "# Swap key<->value in dict\n",
    "topicss = dict((v,k) for k,v in topicss.items())\n",
    "\n",
    "for j, topic_nums in enumerate(predictionn):\n",
    "    topic_names = [v for v in topic_nums]\n",
    "    topic_names = sorted(topic_names)\n",
    "    for i, name in enumerate(topic_names):\n",
    "        topic_names[i] = topicss[name]\n",
    "    predictionn[j] = topic_names\n",
    "\n",
    "for j, topic_nums in enumerate(y_test):\n",
    "    topic_names = sorted(topic_nums)\n",
    "    for i, name in enumerate(topic_names):\n",
    "        topic_names[i] = topicss[name]\n",
    "    y_test[j] = topic_names\n",
    "\n",
    "import csv\n",
    "\n",
    "with open(\"predicted.txt\",\"w\") as f:\n",
    "    wr = csv.writer(f)\n",
    "    wr.writerows(prediction)\n",
    "\n",
    "with open(\"actual.txt\",\"w\") as f:\n",
    "    wr = csv.writer(f)\n",
    "    wr.writerows(y_test)"
   ]
  },
  {
   "cell_type": "markdown",
   "metadata": {},
   "source": [
    "Count prediction accuracy by using accuracy_score\n",
    "\n",
    "In multilabel classification, this function computes subset accuracy: the set of labels predicted for a sample must exactly match the corresponding set of labels in y_true.\n"
   ]
  },
  {
   "cell_type": "code",
   "execution_count": 15,
   "metadata": {
    "collapsed": true
   },
   "outputs": [
    {
     "name": "stdout",
     "output_type": "stream",
     "text": [
      "Test accuracy is 4.9987503124218944e-05\n"
     ]
    }
   ],
   "source": [
    "y_t = MultiLabelBinarizer().fit_transform(y_test)\n",
    "print('Test accuracy is {}'.format(accuracy_score(y_t, prediction)))"
   ]
  },
  {
   "cell_type": "code",
   "execution_count": null,
   "metadata": {},
   "outputs": [],
   "source": []
  }
 ],
 "metadata": {
  "kernelspec": {
   "display_name": "Python 2",
   "language": "python",
   "name": "python2"
  },
  "language_info": {
   "codemirror_mode": {
    "name": "ipython",
    "version": 2
   },
   "file_extension": ".py",
   "mimetype": "text/x-python",
   "name": "python",
   "nbconvert_exporter": "python",
   "pygments_lexer": "ipython2",
   "version": "2.7.6"
  }
 },
 "nbformat": 4,
 "nbformat_minor": 0
}
